{
 "cells": [
  {
   "cell_type": "markdown",
   "metadata": {},
   "source": [
    "Defino una matriz Hermitiana $Q_{n\\times n}$ como concatenacion de submatrices $Q(i)_{m \\times m},i=1...4$ y $m=n/2$\n"
   ]
  },
  {
   "cell_type": "markdown",
   "metadata": {},
   "source": [
    "$$\n",
    "Q=\n",
    "\\begin{bmatrix}\n",
    " Q_1 & Q_2 \\\\\n",
    " Q_3 &Q_4\\\\\n",
    " \\end{bmatrix}\n",
    "$$\n",
    "\n",
    "Haciendo descomposicion de **Cholesky** $L^HL=Q$ y considerando a $L_{n\\times n}$ como concatenacion de submatrices $L(i)_{m \\times m},i=1...4$ y $m=n/4$\n",
    "$$\n",
    "L=\n",
    "\\begin{bmatrix}\n",
    " L_1 & L_2 \\\\\n",
    " L_3 &L_4\\\\\n",
    " \\end{bmatrix}\n",
    "$$\n",
    "\n",
    "Obtenemos que \n",
    "$$\n",
    "\\begin{bmatrix}\n",
    " L_1^* & L_3^* \\\\\n",
    " L_2^* &L_4^*\\\\\n",
    " \\end{bmatrix} \\times \n",
    " \\begin{bmatrix}\n",
    " L_1 & L_2 \\\\\n",
    " L_3 &L_4\\\\\n",
    " \\end{bmatrix}\n",
    " =\n",
    " \\begin{bmatrix}\n",
    " Q_1 & Q_2 \\\\\n",
    " Q_3 &Q_4\\\\\n",
    " \\end{bmatrix}\n",
    "$$\n",
    "Teniendo en cuenta que $L$ es triangular por bajo, por ende $L_2=0$, las submatrices $Q_i$ quedan definidas como:\n"
   ]
  },
  {
   "cell_type": "markdown",
   "metadata": {},
   "source": [
    "$$Q_1= L_1^*L_1+L_3^*L_3$$\n",
    "$$Q_2= L_3^*L_4$$\n",
    "$$Q_3= L_4^*L_3$$\n",
    "$$Q_4= L_4^*L_4$$\n",
    "\n",
    "\n"
   ]
  },
  {
   "cell_type": "markdown",
   "metadata": {},
   "source": [
    "Ahora consideremos que podemos formar una matriz hermitiana $Q=S^HS$ donde $S_{\\frac{n}{2}\\times n} = \\begin{bmatrix} S_1&S_2\\\\\\end{bmatrix}$ y $S(i)$ es de tamaño $m\\times m$.\n",
    "Por lo tanto,\n",
    "$$ \\begin{bmatrix}S_1^*\\\\S_2^*\\\\\\end{bmatrix}\\begin{bmatrix}S_1&S_2\\\\\\end{bmatrix}=\\begin{bmatrix}\n",
    " Q_1 & Q_2 \\\\\n",
    " Q_3 &Q_4\\\\\n",
    " \\end{bmatrix}\n",
    "$$\n",
    "y\n",
    "$$Q_1= S_1^*S_1$$\n",
    "$$Q_2= S_1^*S_2$$\n",
    "$$Q_3= S_2^*S_1$$\n",
    "$$Q_4= S_2^*S_2$$\n"
   ]
  },
  {
   "cell_type": "code",
   "execution_count": null,
   "metadata": {
    "collapsed": true
   },
   "outputs": [],
   "source": []
  }
 ],
 "metadata": {
  "kernelspec": {
   "display_name": "Python 2",
   "language": "python",
   "name": "python2"
  },
  "language_info": {
   "codemirror_mode": {
    "name": "ipython",
    "version": 2
   },
   "file_extension": ".py",
   "mimetype": "text/x-python",
   "name": "python",
   "nbconvert_exporter": "python",
   "pygments_lexer": "ipython2",
   "version": "2.7.9"
  }
 },
 "nbformat": 4,
 "nbformat_minor": 1
}
